{
 "cells": [
  {
   "cell_type": "code",
   "execution_count": null,
   "metadata": {
    "deleteable": false,
    "editable": false,
    "init_cell": true,
    "tags": []
   },
   "outputs": [],
   "source": [
    "# Please click this cell and press shift-return/enter everytime you open this Notebook! \n",
    "%load_ext autoreload\n",
    "%autoreload 2\n",
    "from notebook import * "
   ]
  },
  {
   "cell_type": "markdown",
   "metadata": {
    "cs203.is_response": true,
    "deletable": false
   },
   "source": [
    "<div class=\"namebox\">    \n",
    "Double Click to edit and enter your\n",
    "\n",
    "1.  Name\n",
    "2.  Student ID\n",
    "3.  @ucr.edu email address\n",
    "    \n",
    "</div>"
   ]
  },
  {
   "cell_type": "markdown",
   "metadata": {
    "deletable": false,
    "editable": false,
    "tags": []
   },
   "source": [
    "<div style=\" font-size: 300% !important;\n",
    "    margin-top: 1.5em;\n",
    "    margin-bottom: 10px;\n",
    "    font-weight: bold;\n",
    "    line-height: 1.0;\n",
    "    text-align:center;\">\n",
    "Assignment 1: Welcome to CS203 and Get Familiar with JupyterHub and C/x86 (Again)!\n",
    "</div>"
   ]
  },
  {
   "cell_type": "markdown",
   "metadata": {
    "deletable": false,
    "editable": false,
    "tags": []
   },
   "source": [
    "**Welcome to the first assignment of CS203!**\n",
    "\n",
    "The main goals of this assignment are:\n",
    "\n",
    "1. To get you set up the environment for CS203 assignments\n",
    "    1. Github\n",
    "    2. Github Classroom\n",
    "    3. CS203's Jupyterhub cluster\n",
    "    4. Jupyter Notebook and basic data analytics\n",
    "    5. Review of C programming\n",
    "    6. Review of x86 assembly/instructions\n",
    "    7. From C source code to an x86 program\n",
    "\n",
    "This assignment should be completed **on your own**. **Any type collaboration is prohibited**\n",
    "\n",
    "Check Gradescope for due date(s)."
   ]
  },
  {
   "cell_type": "markdown",
   "metadata": {
    "editable": false
   },
   "source": [
    "# FAQ and Updates\n",
    "\n",
    "* There are no updates, yet."
   ]
  },
  {
   "cell_type": "markdown",
   "metadata": {
    "deleteable": false,
    "editable": false,
    "tags": []
   },
   "source": [
    "# Browser Compatibility"
   ]
  },
  {
   "cell_type": "markdown",
   "metadata": {
    "deleteable": false,
    "editable": false,
    "tags": []
   },
   "source": [
    "We are still working out some bugs in some browsers.  Here's the current status:\n",
    "\n",
    "1.  Chrome -- well tested.  Preferred option.\n",
    "2.  Firefox -- seems ok, but not thoroughly tested.\n",
    "3.  Edge -- seems ok, but not thoroughly tested.\n",
    "4.  Safari -- not supported at the moment.\n",
    "5.  Internet Explorer -- not supported at the moment.\n",
    "\n",
    "At the moment, the authentication step must be done in Chrome."
   ]
  },
  {
   "cell_type": "markdown",
   "metadata": {
    "deleteable": false,
    "editable": false,
    "tags": []
   },
   "source": [
    "# About Assignments In This Class"
   ]
  },
  {
   "cell_type": "markdown",
   "metadata": {
    "deleteable": false,
    "editable": false,
    "tags": []
   },
   "source": [
    "_This section is the same in all the assignments.  It's repeated here for your reference._\n",
    "\n",
    "Assignments are a way to **learn by doing**.  This means you _must_ **do**.  We have built these assignments as Jupyter notebooks so that the \"doing\" is as easy and seamless as possible (Mainly contributed by Steven Swanson at UCSD https://cseweb.ucsd.edu/~swanson/).\n",
    "\n",
    "In this assignment, what you'll do is answer questions about how a program will run and then compare what really happened to your predictions.  Engaging with this process is how you'll learn.  The questions that the assignment asks are there for several purposes:\n",
    "\n",
    "1.  To draw your attention to specific aspects of an experiment or of some results.\n",
    "2.  To push you to engage with the material more deeply by thinking about it.\n",
    "3.  To make you commit to a prediction so you can wonder why your prediction was wrong or be proud that you got it right.\n",
    "4.  To provide some practice with skills/concepts you're learning in this course.\n",
    "5.  To test your knowledge about what you've learned.\n",
    "\n",
    "The questions are graded in one of three ways:\n",
    "\n",
    "1. \"Correctness\" questions require you to answer the question and get the correct answer to get full credit.\n",
    "2. \"Completeness\" questions require you to answer the question.\n",
    "3. \"Optional\" questions are...optional.  They are there if you want to go further with the material.\n",
    "\n",
    "Some of the \"Completeness\" problems include a solution that will be hidden until you click \"Show Solution\".  To get the most from them, try them on your own first.\n",
    "\n",
    "Many of the \"Completeness\" questions ask you to make predictions about the outcome of an experiment and write down those predictions.  To maximize your learning, think carefully about your prediction and commit to it.  **You will never be penalized for making an incorrect prediction.**\n",
    "\n",
    "You are free to discuss \"Completeness\" and \"Optional\" questions with your classmates.  You must complete \"Correctness\" questions on your own.\n",
    "\n",
    "If you have questions about any kind of question, please ask during office hours or during class."
   ]
  },
  {
   "attachments": {
    "image.png": {
     "image/png": "[encoded data removed]"
    }
   },
   "cell_type": "markdown",
   "metadata": {
    "deleteable": false,
    "editable": false,
    "tags": []
   },
   "source": [
    "## How To Succeed On the Assignments\n",
    "\n",
    "Here are some simple tips that will help you do well on this assignment:\n",
    "\n",
    "1.  Read/skim through the entire assignment and review the lecture/textbook. \n",
    "2.  Start early.  Getting answers on piazza can take time.  So think through the questions (and your questions about them) carefully.\n",
    "    1. Go through the assignment once (several days before the deadline), do the parts that are easy/make sense\n",
    "    2. Ask questions/think about the rest\n",
    "    3. Come back and do the rest.\n",
    "3.  Start early.  The cluster gets busy and slow near deadlines.  **\"The cluster was slow the night of the deadline\"** is **not an excuse** for not getting the assignment done and it is not justification for asking for an extension.\n",
    "4.  Follow the guidelines below for asking answerable questions on piazza.\n",
    "\n",
    "You may think to yourself: \"If I start early enough to account for all that, I'd have to start right after the assignment was announced!\"  Good thought!\n",
    "\n",
    "![image.png](attachment:image.png)\n"
   ]
  },
  {
   "cell_type": "markdown",
   "metadata": {
    "deleteable": false,
    "editable": false,
    "tags": []
   },
   "source": [
    "<div class=\"alert alert-block alert-danger\">\n",
    "\n",
    "**The Cluster Will Get Slow** and our machines will get crowded and slow _before every deadline_.  This is completely predictable.  The cluster can also get crowded due to deadlines in other courses.  You need to start early so you can avoid/work around these slowdowns.  Unless there's some kind of complete outage, we will not grant extensions because the servers are crowded.\n",
    "    \n",
    "</div>"
   ]
  },
  {
   "cell_type": "markdown",
   "metadata": {
    "deleteable": false,
    "editable": false,
    "tags": []
   },
   "source": [
    "## Getting Help\n",
    "\n",
    "You might run into trouble while doing this assignment.  Here's how to get help:\n",
    "\n",
    "1.  Re-read the instructions and make sure you've followed them.\n",
    "2.  Try saving and reloading the notebook.\n",
    "3.  If it says you are not authenticated, go to the [the login section of the assignment](#Logging-In-To-the-Course-Tools) and (re)authenticate.\n",
    "4.  If you get a `FileNotFoundError` make sure you've run all the code cells above your current point in the assignment.\n",
    "4.  If you get an exception or stack dump, check that you didn't accidentally modify the contents of one of the python cells.\n",
    "5.  If all else fails, post a question to edstem/piazza.\n",
    "\n",
    "## Posting Answerable Questions on Piazza\n",
    "\n",
    "If you want useful answers on piazza, you need to provide information that is specific enough for us to provide a useful answer.  Here's what we need:\n",
    "\n",
    "1.  Which part of which assignment are you working on (use the section numbers)?\n",
    "2.  Which problem (copy and paste the _text_ of the question along with the number).\n",
    "\n",
    "If it's question about instructions:\n",
    "\n",
    "1.  Try to be as specific as you can about what is confusing or what you don't understand (e.g., \"I'm not sure if I should do _X_ or _Y_.\")\n",
    "\n",
    "If it's a question about an error while running code, then we need:\n",
    "\n",
    "1.  If you've committed anything, your github repo url.\n",
    "2.  If you've submitted a job with `cs203` you _must_ provide the job id.  With the id, we can figure out just about anything about your job.  Without it, we know nothing.\n",
    "3.  The _entire_ output you received.  There's no limit on how long an piazza post can be.  Give us all the information, not just the last few lines.  We like to scroll!\n",
    "\n",
    "For all of the above **paste the text** into the edstem/piazza question.  Please **do not provide screen captures**.  The course staff refuses to type in job ids found in screen shots.\n",
    "\n",
    "\n",
    "<div class=\"alert alert-block alert-danger\">\n",
    "\n",
    "**We Can't Answer Unanswerable Questions** If you don't follow these guidelines (especially about the github repo and the job id), we will probably not be able to answer your question on edstem/piazza.  We will archive it and ask you to re-post your question with the information we need.\n",
    "    \n",
    "</div>"
   ]
  },
  {
   "cell_type": "markdown",
   "metadata": {
    "deleteable": false,
    "editable": false,
    "tags": []
   },
   "source": [
    "## Keeping Your Assignment Up-to-Date\n",
    "\n",
    "Occasionally, there will be changes made to the base repository after the\n",
    "assignment is released.  This may include bug fixes and updates to this document.  We'll post on piazza/edstem when an update is avaiassignmentle.\n",
    "\n",
    "In those cases, you can use the following commands to pull the changes from upstream and merge them into your code.  You'll need to do this at a shell.  It won't work properly in the notebook.  Save your notebook in the browser first.\n"
   ]
  },
  {
   "cell_type": "markdown",
   "metadata": {
    "deleteable": false,
    "editable": false,
    "tags": []
   },
   "source": [
    "```\n",
    "cd <your directory for this assignment>git remote add upstream $(cat .starter_repo)  # You need to do this once each time you checkout a new assignment. It will fail \n",
    "                                              # harmlessly if you run it more than once.\n",
    "cp Assignment.ipynb Assignment.backup.ipynb                 # Backup your work.\n",
    "git commit -am \"My progress so far.\"          # commit your work.\n",
    "git pull upstream main --allow-unrelated-histories -X theirs # pull the updates\n",
    "```\n",
    "\n",
    "Or you can use the script we provide:\n",
    "\n",
    "```\n",
    "./fix-repo\n",
    "./pull-updates\n",
    "```\n"
   ]
  },
  {
   "cell_type": "markdown",
   "metadata": {},
   "source": [
    "Be sure to save your current progress!!!\n",
    "\n",
    "Then run this cell. It'll fix your git repo history so you can successfully merge in updates"
   ]
  },
  {
   "cell_type": "code",
   "execution_count": null,
   "metadata": {},
   "outputs": [],
   "source": [
    "!./fix-repo\n",
    "!./pull-updates"
   ]
  },
  {
   "cell_type": "markdown",
   "metadata": {
    "deleteable": false,
    "editable": false,
    "tags": []
   },
   "source": [
    "Then, reload this page in your browser."
   ]
  },
  {
   "cell_type": "markdown",
   "metadata": {
    "deleteable": false,
    "editable": false,
    "tags": []
   },
   "source": [
    "## How To Use This Document\n",
    "\n",
    "You will use Jupyter Notebook to complete this assignment.  You should be able to do much of this assignment without leaving Jupyter Notebook.  The main exception will be some of the programming assignments.  The instructions will make it clear when you should use the terminal.\n",
    "\n",
    "### Running Code\n",
    "\n",
    "Jupyter Notebooks are made up of \"cells\".  Some have Markdown-formatted text in them (like this one).  Some have Python code (like the one below).\n",
    "\n",
    "For code cells, you press `shift-return` to execute the code.  Try it below:"
   ]
  },
  {
   "cell_type": "code",
   "execution_count": null,
   "metadata": {
    "deleteable": false,
    "editable": false,
    "tags": []
   },
   "outputs": [],
   "source": [
    "print(\"I'm in python\")"
   ]
  },
  {
   "cell_type": "markdown",
   "metadata": {
    "deleteable": false,
    "editable": false,
    "tags": []
   },
   "source": [
    "Code cells can also execute shell commands using the `!` operator.  Try it below:"
   ]
  },
  {
   "cell_type": "code",
   "execution_count": null,
   "metadata": {
    "deleteable": false,
    "editable": false,
    "tags": []
   },
   "outputs": [],
   "source": [
    "!echo \"I'm in a shell\""
   ]
  },
  {
   "attachments": {
    "image.png": {
     "image/png": "[encoded data removed]"
    }
   },
   "cell_type": "markdown",
   "metadata": {
    "deleteable": false,
    "editable": false,
    "tags": []
   },
   "source": [
    "### Telling What The Notebook is Doing\n",
    "\n",
    "The notebook will only run one cell at a time, so if you press `shift-return` several times, the cells will wait for one another.  You can tell that a cell is waiting if it there's a `*` in the `[]` to the left the cell:\n",
    "\n",
    "![image.png](attachment:image.png)\n"
   ]
  },
  {
   "attachments": {
    "image.png": {
     "image/png": "[encoded data removed]"
    }
   },
   "cell_type": "markdown",
   "metadata": {
    "deleteable": false,
    "editable": false,
    "tags": []
   },
   "source": [
    "You'll can also tell _where_ the notebook is executing by looking at the table of contents on the left.  The section with the currently-executing cell will be red:\n",
    "\n",
    "![image.png](attachment:image.png)"
   ]
  },
  {
   "attachments": {
    "image.png": {
     "image/png": "[encoded data removed]"
    }
   },
   "cell_type": "markdown",
   "metadata": {
    "deleteable": false,
    "editable": false,
    "tags": []
   },
   "source": [
    "### What to Do Jupyter Notebook It Gets Stuck\n",
    "\n",
    "First, check if it's actually stuck: Some of the cells take a while, but they will usually provide some visual sign of progress.  If _nothing_ is happening for more than 10 seconds, it's probably stuck.\n",
    "\n",
    "To get it unstuck, you stop execution of the current cell with the \"interrupt button\":\n",
    "\n",
    "![image.png](attachment:image.png)"
   ]
  },
  {
   "attachments": {
    "image.png": {
     "image/png": "[encoded data removed]"
    }
   },
   "cell_type": "markdown",
   "metadata": {
    "deleteable": false,
    "editable": false,
    "tags": []
   },
   "source": [
    "You can also restart the underlying python instance (i.e., the confusingly-named \"kernel\" which is not the same thing as the operating system kernel) with the restart button:\n",
    "\n",
    "![image.png](attachment:image.png)\n",
    "\n",
    "Once you do this, all the variables defined by earlier cells are gone, so you may get some errors.  You may need to re-run the cells in the current section to get things to work again.\n",
    "\n",
    "You can also reloading the web page.  That will leave Python kernel intact, but it can help with some problems.\n",
    "\n",
    "### Common Errors and Non-Errors\n",
    "\n",
    "1.  If you get `sh: 0: getcwd() failed: no such file or directory`, restart the kernel.\n",
    "2.  If you get `INFO:MainThread:numexpr.utils:Note: NumExpr detected 40 cores but \"NUMEXPR_MAX_THREADS\" not set, so enforcing safe limit of 8.`.  It's not a real error.  Ignore it. \n",
    "3.  If you get a prompt asking `Do you want to cancel them and run this job?` but you can't reply because you can't type into an output cell in Jupyter notebook, replace `cs203 run` with `cs203 run `. (see useful tip below.)\n",
    "4.  If you get an `Error: Your request failed on the server: 500 Server Error: Internal Server Error for url=http://cs203l-dev.wl.r.appspot.com/file`, trying running the job again."
   ]
  },
  {
   "cell_type": "markdown",
   "metadata": {
    "deleteable": false,
    "editable": false,
    "tags": []
   },
   "source": [
    "### The Embedded Code\n",
    "\n",
    "The code embedded in the assignment falls into two categories:\n",
    "\n",
    "1.  Code you need to edit and understand.\n",
    "2.  Code that you do not need to edit or understand -- it's just there to display something for you.\n",
    "\n",
    "For code in the first category, the assignment will make it clear that you need to study, modify, and/or run the code.  If we don't explicitly ask you to do something, you don't need to.\n",
    "\n",
    "Most of the code in the second category is for drawing graphs.  You can just run it with shift-return to the see the results.  If you are curious, it's mostly written with `Pandas` and `matplotlib`. The code is all in `notebook.py`.   These cells should be un-editable.  However, if you want to experiment with them, you can copy _the contents_ of the cell into a new cell and do whatever you want (If you copy the cell, the copy will also be uneditable).\n",
    "\n",
    "<div class=\"alert alert-block alert-info\">\n",
    "\n",
    "**Most Cells are Immutable** Many of the cells of this notebook are uneditable. The only ones you should edit are some of the code cells and the text cells with questions in them.\n",
    "</div>"
   ]
  },
  {
   "cell_type": "markdown",
   "metadata": {
    "deleteable": false,
    "editable": false,
    "tags": []
   },
   "source": [
    "### Answering Questions\n",
    "\n",
    "Throughout this document, you'll see some questions (like the one below).  You can double click on them to edit them and fill in your answer.  Try not to mess up the formatting (so it's easy for us to grade), but at least make sure your answer shows up clearly.  When you are done editing, you can `shift-return` to make it pretty again.\n",
    "\n",
    "A few tips, pointers, and caveats for answering questions:\n",
    "\n",
    "1. The answers are all in [github-flavored markdown](https://guides.github.com/features/mastering-markdown/) with some html sprinkled in.  Leave the html alone.\n",
    "2. Many answers require you to fill in a table, and many of the `|` characters will be missing.  You'll need to add them back.\n",
    "3. The HTML needs to start at the beginning of a line.  If there are spaces before a tag, it won't render properly.  If you accidentally add white space at the beginning of a line with an html tag on it, you'll need to fix it.\n",
    "4. Text answers also need to start at the beginning of a line, otherwise they will be rendered as code.\n",
    "5. Press `shift-return` or `option-return` to render the cell and make sure it looks good.\n",
    "6. There needs to be a blank line between html tags and markdown.  Otherwise, the markdown formatting will not appear correctly.\n",
    "\n",
    "\n",
    "You'll notice that there are three kinds of questions: \"Correctness\", \"Completeness\", and \"Optional\".  You need to provide an answer to the \"Completeness\" questions, but you won't be graded on its correctness.  You'll need to answer \"Correctness\" questions correctly to get credit.  The \"Optional\" questions are optional."
   ]
  },
  {
   "cell_type": "markdown",
   "metadata": {
    "deleteable": false,
    "editable": false,
    "tags": []
   },
   "source": [
    "### Give it a try"
   ]
  },
  {
   "cell_type": "markdown",
   "metadata": {
    "cs203.is_response": true,
    "cs203.points": 1,
    "cs203.question_type": "completeness",
    "deletable": false,
    "editable": false,
    "solution2": "hidden",
    "solution2_first": true,
    "tags": []
   },
   "source": [
    "<div class=\"alert alert-block alert-success\">\n",
    "<div class='question completeness'>\n",
    "\n",
    "## Question 1 (Completeness)  \n",
    "\n",
    "<div class=\"question-text\">\n",
    "\n",
    "What will you do with your Jupyter Notebook to turn it in (Delete _all_ incorrect answers)? Then fill in the table.  Fix the formatting of the last line and the closing tag.\n",
    "</div>\n",
    "    </div>"
   ]
  },
  {
   "cell_type": "markdown",
   "metadata": {
    "cs203.is_response": true,
    "cs203.points": 1,
    "cs203.question_type": "completeness",
    "deletable": false,
    "solution2": "hidden",
    "solution2_first": true
   },
   "source": [
    "<div class=\"alert alert-block alert-success\">\n",
    "<div class=\"answer\">\n",
    "\n",
    "**What will you do with your Jupyter Notebook to turn it in (Delete _all_ incorrect answers)?**\n",
    "    \n",
    "1.  Print it out on paper and slide it under the professor's door.\n",
    "\n",
    "2.  Follow the directions at the end of the assignment to produce a pdf\n",
    "    \n",
    "3.  Read it aloud to a TA during office hours\n",
    "    \n",
    "4.  Submit via gradescope.\n",
    "    \n",
    "**Fill in the table**\n",
    "    \n",
    "| Random Fact         | Value | Second choice |\n",
    "|---------------------|-------|---------------|\n",
    "| Your favorite color |      \n",
    "| Favorite food on campus | \n",
    "| Time of day ||\n",
    "\n",
    "**Fix the formatting**    \n",
    "\n",
    "    This answer is formatted poorly.\n",
    "    </div>\n",
    "</div>\n",
    "</div>"
   ]
  },
  {
   "cell_type": "markdown",
   "metadata": {
    "deleteable": false,
    "editable": false,
    "solution2": "hidden",
    "tags": []
   },
   "source": [
    "<div class=\"alert alert-block alert-info\">\n",
    "\n",
    "This is a solution to a \"completeness\" or \"optional\" problem.  It'll give some details of how to solve the problem.  The solutions I give will be much more complete and detailed than what you need to provide for your answers to questions.\n",
    "    \n",
    "In this case, let's analyze each possible answer:\n",
    "    \n",
    "1.  ~Since the professor is a CS professor, he doesn't know how to deal with paper and the TAs do most of the grading, so this a poor choice.~\n",
    "2.  \"Following the directions\" is always a good idea.\n",
    "3.  ~There are  about 300 of you enrolled.  The poor TAs would die of exhaustion and boredom.~\n",
    "4.  Yes!\n",
    "\n",
    "So you should have deleted 1 and 3.\n",
    "\n",
    "For the table, you can enter whatever you want for the answers, but note that some of the `|`s are missing.  It renders fine in question, but you'll need to add the `|`s back to fill out the table.\n",
    "    \n",
    "For the last line, there are spaces before the text, so it gets rendered in a fixed-width font.  You should remove the leading spaces, so it looks like this:\n",
    "    \n",
    "This is formatted ~poorly~ beautifully.\n",
    "\n",
    "Likewise, remove the leading space before the `<div>`.\n",
    "\n",
    "In addition to markdown syntax, Jupyter Notebook supports LaTeX equations. For example, you can create an equation for y=1/x by typing \\$y=\\\\frac{1}{x}\\$ in the cell and it will look like $y=\\frac{1}{x}$. You may find a more complete reference in the following link: https://www.overleaf.com/learn/latex/Mathematical_expressions"
   ]
  },
  {
   "cell_type": "markdown",
   "metadata": {
    "cs203.is_response": true,
    "cs203.points": 1,
    "cs203.question_type": "correctness",
    "deletable": false,
    "editable": false,
    "solution2": "hidden",
    "solution2_first": true,
    "tags": []
   },
   "source": [
    "<div class=\"alert alert-block alert-success\">\n",
    "<div class='question correctness'>\n",
    "\n",
    "## Question 2 (Correctness)\n",
    "<div class=\"question-text\">\n",
    "<img src=\"amdahlslaw.png\" width=\"200\" height=\"100\">\n",
    "\n",
    "Can you use LaTeX syntax to produce/render EXACTLY THE SAME formula of the Amdahl's Law equation shown before? You will have to use the LaTeX syntax to express all formula in this class and render them nicely in your assignments/tests in the future.\n",
    "\n",
    "\n",
    "</div>\n",
    "</div>"
   ]
  },
  {
   "cell_type": "markdown",
   "metadata": {
    "cs203.is_response": true,
    "deletable": false,
    "tags": []
   },
   "source": [
    "<div class=\"alert alert-block alert-success\">\n",
    "<div class=\"answer\">\n",
    "    \n",
    "**Use LaTeX syntax to reproduce/render the Amdahl's Law equation like the above**\n",
    "\n",
    "</div>\n",
    "</div>"
   ]
  },
  {
   "cell_type": "markdown",
   "metadata": {
    "deletable": false,
    "editable": false,
    "tags": []
   },
   "source": [
    "# Grading\n",
    "\n",
    "Your grade for this assignment will be based on your completion and submission of this notebook.\n",
    "\n",
    "| Part                       | value |\n",
    "|----------------------------|-------|\n",
    "| Jupyter Notebook           | 50%   |\n",
    "| Programming Assignment     | 48%    |\n",
    "| Post-assignment survey     | 2%    |\n",
    "\n",
    "We will grade 5 of the \"completeness\" problems.  They are worth 3 points each.  We will grade all of the \"correctness\" questions.\n",
    "\n",
    "Check Gradescope for the due dates.\n",
    "\n",
    "Instructions for submitting the assignment are at the end of the assignment.\n",
    "\n",
    "***No late work or extensions will be allowed.***"
   ]
  },
  {
   "cell_type": "markdown",
   "metadata": {
    "deleteable": false,
    "editable": false,
    "tags": []
   },
   "source": [
    "# Academic Integrity Agreement"
   ]
  },
  {
   "cell_type": "markdown",
   "metadata": {
    "cs203.is_response": true,
    "cs203.points": 1,
    "cs203.question_type": "correctness",
    "deletable": false,
    "editable": false,
    "tags": []
   },
   "source": [
    "<div class=\"alert alert-block alert-success\">\n",
    "<div class=\"answer\">\n",
    "\n",
    "To continue in the class, you need to agree to the following:\n",
    "\n",
    "At UCR, academic integrity[1] means that you have the courage, even when\n",
    "it is difficult, to only submit academic work that is honest,\n",
    "responsible, respectful, fair, and trustworthy. When you excel with\n",
    "integrity in computer science, it means that you:\n",
    "\n",
    "\n",
    "**Honest** submit work that is a truthful demonstration of your\n",
    "            knowledge and abilities (rather than the knowledge and\n",
    "            abilities of another)\n",
    "\n",
    "**Responsible** manage your time so that you are not pressured to\n",
    "            complete an assignment at the last minute\n",
    "\n",
    "**Respectful** acknowledge the contributions of others to your work by\n",
    "            citing them when ve used their words or ideas (e.g., after\n",
    "            I've spoken to classmates or after I've used portions of\n",
    "            a code written by another if permitted)\n",
    "\n",
    "**Fair** complete your academic work according to stated standards and\n",
    "            expectations even when it takes longer or re struggling\n",
    "\n",
    "**Trustworthy** can be trusted to be honest, responsible, respectful,\n",
    "            and fair even when no one is watching you.\n",
    "\n",
    "\n",
    "When you act contrary to these values, you are cheating. Cheating\n",
    "undermines trust between students and professors, the value of the\n",
    "UCR degree, and your learning/development of skills.\n",
    "\n",
    "While we can't list every behavior that would be cheating, we can give\n",
    "you some illustrative examples like the following:\n",
    "\n",
    "* Submitting any source code written by another person/generative AI or copied from\n",
    "  another person/generative AI, submitting homework answers which were produced by\n",
    "  another student/generative AI.\n",
    "\n",
    "* Submitting code/homework you have previously submitted to another\n",
    "  course for credit without first obtaining permission from the \n",
    "  instructor. The same restriction holds for publicly avaiassignmentle\n",
    "  code/homework solutions that you haven't written.  Taking notes\n",
    "  taken during any discussions with classmates about an assignment is\n",
    "  prohibited.\n",
    "\n",
    "* Using words or text written by someone else without citing text\n",
    "  appropriately. Every figure or sentence fragment must be\n",
    "  appropriately decorated with quotation marks or indention to\n",
    "  indicate very clearly that someone else wrote the text. In addition,\n",
    "  the passage must be assignmenteled with a citation or citation number which\n",
    "  refers to a footnote or bibliographic entry. Citing a paper once is\n",
    "  not enough. Remember: citations should be used to illuminate a\n",
    "  viewpoint which you hold. They are not a substitute for expressing\n",
    "  your own ideas in your own words.\n",
    "\n",
    "* Submitting any portion(s) of an assignment you have previously\n",
    "  submitted for credit in another course.\n",
    "\n",
    "* Copying from a neighbor during an exam or using an unauthorized aid\n",
    "  to help you on your exam.\n",
    "\n",
    "* Altering a graded exam or assignment and resubmitting it for regrade\n",
    "\n",
    "* Allowing someone else to complete an assignment or exam for you, or\n",
    "  allowing them to pretend to be you in class (e.g., by signing an\n",
    "  attendance form or clicking for you).\n",
    "\n",
    "* Making avaiassignmentle to others source code, documentation, or notes\n",
    "  useful for completing an assignment. You should neither produce,\n",
    "  procure, nor accept such material. This includes students in\n",
    "  current, past, and future offerings of the course, and applies to\n",
    "  electronic transmissions including email, web pages, ftp, and so on,\n",
    "  as well as hard copy such as source code listings.\n",
    "\n",
    "* Possessing (at any time) source code, data, or answers to homeworks or \n",
    "  assignment questions created by another student.  Having had \n",
    "  any of these items in your possession (e.g., in your directory on the \n",
    "  campus servers or on your personal computer) at any time, constitutes \n",
    "  cheating.  You should never accept these materials from anyone for any \n",
    "  reason.\n",
    "  \n",
    "* Running other students' code from your account or allowing another student submit code using your credentials.\n",
    "\n",
    "If the behavior you are considering isn't listed here, don't assume that it is\n",
    "allowed.  Rather, you should always do independent work unless told otherwise. And\n",
    "before completing your academic work in a certain way, you should ask\n",
    "is it honest, respectful, responsible, fair, and trustworthy.  You can also ask yourself \"Would\n",
    "I be okay if my methods were exposed to the TA, professors, and fellow students?\" If the\n",
    "answer is no, you shouldn't do it.\n",
    "\n",
    "**If you have any questions about what is and isn't cheating, be sure\n",
    "  to discuss them with the instructor.**\n",
    "\n",
    "Any student who cheats, thereby undermining integrity, will be\n",
    "reported to the Academic Integrity Office.  Students who cheat face\n",
    "various disciplinary sanctions as well as academic penalty imposed by\n",
    "the instructor in the course.  _Academic penalties include, but are\n",
    "not limited to, receiving a grade of 0 for the assignment or test in\n",
    "question, and receiving an 'F' for the course._\n",
    "\n",
    "[1] For more information on academic integrity, including how you can\n",
    "excel with integrity, as well as information on sanctioning guidelines\n",
    "for cheating, visit the Academic Integrity Office website at:\n",
    "https://conduct.ucr.edu/policies/academic-integrity-policies-and-procedures\n",
    "[2] This document was revised from Rick Ord, CSE Lecturer and Dr. Bertram Gallant, Director of the UCSD Academic Integrity Office.\n",
    "    \n",
    "</div>\n",
    "</div>"
   ]
  },
  {
   "cell_type": "markdown",
   "metadata": {
    "cs203.is_response": true,
    "cs203.points": 1,
    "cs203.question_type": "correctness",
    "deletable": false,
    "editable": false,
    "tags": []
   },
   "source": [
    "<div class=\"alert alert-block alert-success\">\n",
    "\n",
    "<div class=\"question correctness points-1\">\n",
    "\n",
    "## Question 3 (Correctness)\n",
    "\n",
    "<div class=\"question-text\"> Please affirm your adherence to this agreement</div>\n",
    "    </div>\n",
    "    </div>"
   ]
  },
  {
   "cell_type": "markdown",
   "metadata": {
    "cs203.is_response": true,
    "cs203.points": 1,
    "cs203.question_type": "correctness",
    "deletable": false
   },
   "source": [
    "<div class=\"alert alert-block alert-success\">\n",
    "<div class=\"answer\">\n",
    "\n",
    "Type 'I excel with integrity' here: [` type it (leave the brackets)`]\n",
    "\n",
    "By submitting this file, I, [`Your Name`], a student enrolled in\n",
    "CS203 affirm the principle of academic integrity and commit to excel\n",
    "with integrity by completing all academic assignments in the manner\n",
    "expected as described above, informing the instructor of suspected\n",
    "instances of academic misconduct by my peers, and fully engaging in\n",
    "the class and its related assignments for the purpose of learning.\n",
    "\n",
    "To electronically sign this document, Enter your full name, date, and\n",
    "student ID below:\n",
    "\n",
    "[` full name            `] / [` date `] / [`Student ID #              `]\n",
    "\n",
    "</div>\n",
    "\n",
    "</div>"
   ]
  },
  {
   "cell_type": "markdown",
   "metadata": {
    "deleteable": false,
    "editable": false,
    "tags": []
   },
   "source": [
    "# Skills to Learn\n",
    "\n",
    "1. git/GitHub basics\n",
    "2. Navigating a Jupyter Notebook\n",
    "3. Think code and predict its behavior.\n",
    "4. Writing and compile C/C++ code. "
   ]
  },
  {
   "cell_type": "markdown",
   "metadata": {
    "deleteable": false,
    "editable": false,
    "tags": []
   },
   "source": [
    "# Building and Running Code"
   ]
  },
  {
   "cell_type": "markdown",
   "metadata": {
    "deletable": false,
    "editable": false,
    "tags": []
   },
   "source": [
    "In this class, we will spend a lot of time measuring the behavior of programs.  To do this accurately, we need to run the code by itself on a machine, so that other programs don't interfere with our measurements.  As you'll experience, datahub is a very \"noisy\" environment from a performance perspective.\n",
    "\n",
    "To get good measurements, we'll run our experiments \"in the cloud\" on some dedicated _bare metal_ servers where nothing else runs.  Since those servers are expensive, we have to share them across all the students in the course.  So, rather than have you log in directly, you can build your code on datahub, debug your code on datahub, and then submit \"jobs\" to run in the cloud."
   ]
  },
  {
   "cell_type": "markdown",
   "metadata": {
    "deletable": false,
    "editable": false
   },
   "source": [
    "## Set up the cloud credentials\n",
    "\n",
    "Similar to github, our cloud also rely on your public key to authenticate your access. Before you can access the cloud infrastructure, you need to execute the following script only once."
   ]
  },
  {
   "cell_type": "code",
   "execution_count": null,
   "metadata": {
    "cs203.is_response": true,
    "deletable": false,
    "editable": false
   },
   "outputs": [],
   "source": [
    "import os\n",
    "from pathlib import Path\n",
    "with open(str(Path.home())+\"/.ssh/id_rsa.pub\", 'r') as file:\n",
    "    pub_key = file.read()\n",
    "file.close()\n",
    "if not (os.path.isfile(str(Path.home())+\"/.ssh/authorized_keys\")): \n",
    "    authorized_keys = open(str(Path.home())+\"/.ssh/authorized_keys\", 'w')\n",
    "authorized_keys.close()\n",
    "authorized_keys = open(str(Path.home())+\"/.ssh/authorized_keys\", 'r')\n",
    "if pub_key in authorized_keys.read():\n",
    "    print('The key is already registered')\n",
    "else:\n",
    "    authorized_keys.close()\n",
    "    authorized_keys = open(str(Path.home())+\"/.ssh/authorized_keys\", 'a')\n",
    "    authorized_keys.write(pub_key)\n",
    "    print('We\\'re done!')\n",
    "authorized_keys.close()"
   ]
  },
  {
   "cell_type": "markdown",
   "metadata": {
    "deletable": false,
    "tags": []
   },
   "source": [
    "## Build The Code Locally\n",
    "\n",
    "We'll build executables using `make`.  For instance, you can compile `hello_world.cpp` into `hello_world.exe` by typing this at your Linux shell prompt:\n",
    "\n",
    "```\n",
    "make hello_world.exe\n",
    "```\n",
    "\n",
    "Or, you can do that from right here in the note book by putting a `!` in front.  Type \n",
    "```\n",
    "!make hello_world.exe\n",
    "```\n",
    "\n",
    "Like this:"
   ]
  },
  {
   "cell_type": "code",
   "execution_count": null,
   "metadata": {
    "deleteable": false,
    "editable": false,
    "scrolled": true,
    "tags": []
   },
   "outputs": [],
   "source": [
    "!make hello_world.exe"
   ]
  },
  {
   "cell_type": "markdown",
   "metadata": {
    "cs203.is_response": true,
    "cs203.points": 1,
    "cs203.question_type": "completeness",
    "deleteable": false,
    "editable": false,
    "tags": []
   },
   "source": [
    "<div class=\"alert alert-block alert-success\">\n",
    "<div class=\"question completeness\">\n",
    "\n",
    "## Question 4 (Completeness)\n",
    "\n",
    "<div class=\"question-text\">\n",
    "    \n",
    "In the code  cell below use the `!` to build and run `hello_world2.exe`.  (`hello_world2.exe` will say \"Execution Complete\" and exit).\n",
    "</div>\n",
    "\n",
    "</div>\n",
    "</div>"
   ]
  },
  {
   "cell_type": "code",
   "execution_count": null,
   "metadata": {
    "cs203.is_response": true,
    "deletable": false
   },
   "outputs": [],
   "source": [
    "#Put your commands here\n"
   ]
  },
  {
   "cell_type": "markdown",
   "metadata": {
    "deleteable": false,
    "editable": false,
    "tags": [],
    "toc-hr-collapsed": true
   },
   "source": [
    "## Run the Code Remotely\n",
    "\n",
    "To run a job, you tell `cs203 run` what command you would like to run.  It gathers up _all the files_ (well, not quite all of them, but most of them) in your assignment directory, ships them to the bare-metal server, unpacks them, runs your command, gathers up the files that have changed, ships them back and unpacks them in your directory.  This makes it look like the command ran locally.\n",
    "\n",
    "Let's try it with something simple:"
   ]
  },
  {
   "cell_type": "code",
   "execution_count": null,
   "metadata": {
    "deleteable": false,
    "editable": false,
    "tags": []
   },
   "outputs": [],
   "source": [
    "!make hello_world.exe\n",
    "!cs203 run './hello_world.exe'"
   ]
  },
  {
   "cell_type": "markdown",
   "metadata": {
    "deleteable": false,
    "editable": false,
    "tags": []
   },
   "source": [
    "Note that we didn't need to compile `hello_world.exe` on the remote machine because `cs203` copied the executable to the cloud.\n",
    "\n",
    "The output shows some job status information as it runs.  The job moves through several states as it executes.  The time it spends `RUNNING` is time it took your code to execute.  `PUBLISHED` and `SCHEDULED` (maybe not shown above) means it was waiting for a machine.\n",
    "\n",
    "And the output of the job is near the end:\n",
    "\n",
    "```\n",
    "Hello CS203!\n",
    "```\n",
    "\n",
    "You can run anything you want on the other side.  For fun, let's build the executable over there and then run it:"
   ]
  },
  {
   "cell_type": "code",
   "execution_count": null,
   "metadata": {
    "deleteable": false,
    "editable": false,
    "tags": []
   },
   "outputs": [],
   "source": [
    "!make clean\n",
    "!cs203 run 'make hello_world.exe; ./hello_world.exe' "
   ]
  },
  {
   "cell_type": "markdown",
   "metadata": {
    "deletable": false,
    "editable": false,
    "tags": []
   },
   "source": [
    "Now you can see the compiler output and you'll notice that it copied back the files it modified while building `hello_world.exe`.\n",
    "\n",
    "```\n",
    "./build/hello_world.cpp\n",
    "./build/hello_world.o\n",
    "./hello_world.exe\n",
    "```\n",
    "\n",
    "<div class=\"alert alert-block alert-danger\">\n",
    "    \n",
    "**With great power comes great responsibility.**  You can run pretty much whatever you want on the remote machine, but there's a time limit.  Nevertheless, there are probably ways for you to crash the remote machine or cause it to malfunction.  Doing so intentionally is against the rules.  If we find you've done so, we'll disable your account and you'll have to find some other way to complete the assignments.\n",
    "    \n",
    "![image.png](attachment:image.png)\n",
    "\n",
    "</div>"
   ]
  },
  {
   "cell_type": "markdown",
   "metadata": {
    "deleteable": false,
    "editable": false,
    "tags": []
   },
   "source": [
    "<div class=\"alert alert-block alert-success\">\n",
    "    \n",
    "**Keep track of questions you have.**  This assignment is more about collecting questions than finding answers.  I've called out some interesting questions throughout the assignment.  The last question of the assignment asks for _other_ questions you had while examining the data you'll collect below, so keep track of them as you work through the assignment.\n",
    "\n",
    "</div>"
   ]
  },
  {
   "cell_type": "markdown",
   "metadata": {
    "deleteable": false,
    "editable": false,
    "tags": []
   },
   "source": [
    "## Meet Your Processors in the Cloud!"
   ]
  },
  {
   "cell_type": "markdown",
   "metadata": {
    "deleteable": false,
    "editable": false,
    "tags": []
   },
   "source": [
    "Let's gather a little bit of information about the CPU we'll be using.  We can just ask the OS:"
   ]
  },
  {
   "cell_type": "code",
   "execution_count": null,
   "metadata": {
    "cs203.is_response": true,
    "deletable": false,
    "editable": false,
    "tags": []
   },
   "outputs": [],
   "source": [
    "!cs203 run lscpu"
   ]
  },
  {
   "cell_type": "markdown",
   "metadata": {
    "deleteable": false,
    "editable": false,
    "tags": []
   },
   "source": [
    "As you can see it's an [Intel Core i3 12100F](https://www.intel.com/content/www/us/en/products/sku/132223/intel-core-i312100f-processor-12m-cache-up-to-4-30-ghz/specifications.html).  The model number probably doesn't mean anything to you, but that's what [google is for](https://www.google.com/)\n",
    "."
   ]
  },
  {
   "cell_type": "markdown",
   "metadata": {
    "cs203.is_response": true,
    "cs203.points": 2,
    "cs203.question_type": "correctness",
    "deletable": false,
    "editable": false,
    "tags": []
   },
   "source": [
    "<div class=\"alert alert-block alert-success\">\n",
    "<div class=\"question correctness points-2\">\n",
    "\n",
    "## Question 5 (Correctness)\n",
    "\n",
    "<div class=\"question-text\">Based on the program output and link above, fill out the table below.  Some of the information is in the output above, some you'll need to google for. \"Technology node\" is roughly the size of the smallest transistors used in designing the chip.:</div>\n",
    "    </div></div>"
   ]
  },
  {
   "cell_type": "markdown",
   "metadata": {
    "cs203.is_response": true,
    "cs203.points": 2,
    "cs203.question_type": "correctness",
    "deletable": false,
    "tags": []
   },
   "source": [
    "<div class=\"alert alert-block alert-success\">\n",
    "<div class=\"answer\">\n",
    "\n",
    "** Please fill in the following table with correct answers**\n",
    "    \n",
    "| Parameter | Value |\n",
    "|-----------------------------|-------|\n",
    "|How many physical cores?     | [YOUR ANSWER HERE] \n",
    "|How many threads?            | \n",
    "|Base processor frequency     |\n",
    "|Max turbo boost frequency    |\n",
    "|Process technology node (nm) | \n",
    "|L1 data cache size (d)               | \n",
    "|L1 instruction cache size (i)               | \n",
    "|L2 Cache size                | \n",
    "|L3 Cache size                | \n",
    "\n",
    "\n",
    "</div>    \n",
    "</div>"
   ]
  },
  {
   "cell_type": "markdown",
   "metadata": {
    "cs203.is_response": true,
    "cs203.question_type": "optional",
    "deletable": false,
    "editable": false,
    "tags": []
   },
   "source": [
    "<div class=\"alert alert-block alert-success\">\n",
    "<div class=\"question optional\">\n",
    "\n",
    "## Question 6 (Optional)\n",
    "\n",
    "<div class=\"question-text\">Here's some other interesting questions to look into about our processor:</div>\n",
    "    </div>\n",
    "    </div>\n",
    "    "
   ]
  },
  {
   "cell_type": "markdown",
   "metadata": {
    "cs203.is_response": true,
    "cs203.question_type": "optional",
    "deletable": false
   },
   "source": [
    "<div class=\"alert alert-block alert-success\">\n",
    "<div class=\"answer\">\n",
    "\n",
    "1.  What's the Intel code name for our processor's microarchitecture?  When was it introduced?\n",
    "2.  What's the maximum clock rate at which processors with this microarchitecture can run?\n",
    "3.  What's the most cores avaiassignmentle on a single die with this microarchitecture? \n",
    "3.  What major revision of Intel's microarchitecture is it a part of?  How old is this basic design?\n",
    "4.  What do all the things under `Flags` mean?\n",
    "    \n",
    "Here are some resources:\n",
    "    \n",
    "1. https://en.wikipedia.org/wiki/List_of_Intel_CPU_microarchitectures\n",
    "2. https://en.wikichip.org/wiki/WikiChip\n",
    "\n",
    "</div>    \n",
    "</div>   "
   ]
  },
  {
   "cell_type": "markdown",
   "metadata": {
    "deleteable": false,
    "editable": false,
    "tags": []
   },
   "source": [
    "## Data Analytics in Jupyter Notebook\n",
    "\n",
    "Computer architecture is a subject that involves in lots of performance evaluation, analysis, and eventually, optimizations. Jupyter Notebook provides a good platform for visualizing the huge amount of data in computer architectures. \n",
    "\n",
    "In this course, we'll use these tools in the assignments to manipulate and plot data are based on two widely-used software packages:  [Pandas](https://pandas.pydata.org/) and [matplotlib](https://matplotlib.org/).  They are powerful software packages with complex interfaces.  Most of the tools you'll use directly are defined in `notebook.py`.  These are the same functions that I've used above plot results, so this Jupyter Notebook is full of examples of how they work. \n",
    "\n",
    "The documentation below provides an introduction to the tools in `notebook.py`.\n",
    "\n",
    "### Data Frames\n",
    "\n",
    "Data frames are a fancy sort of 2-dimensional array.  They have rows of data and named columns -- very much like the CSV files that our experiments generate.  Getting a dataframe from a CSV file is easy:"
   ]
  },
  {
   "cell_type": "code",
   "execution_count": null,
   "metadata": {
    "deletable": false,
    "editable": false,
    "tags": []
   },
   "outputs": [],
   "source": [
    "df = render_csv(\"cpu2017-results-2023.csv\")"
   ]
  },
  {
   "cell_type": "markdown",
   "metadata": {
    "deletable": false,
    "editable": false,
    "tags": []
   },
   "source": [
    "`df` now contains the contents of `benchmark.csv` and we can inspect it like so:"
   ]
  },
  {
   "cell_type": "code",
   "execution_count": null,
   "metadata": {
    "deletable": false,
    "editable": false,
    "tags": []
   },
   "outputs": [],
   "source": [
    "display(df)"
   ]
  },
  {
   "cell_type": "markdown",
   "metadata": {
    "deletable": false,
    "editable": false,
    "tags": []
   },
   "source": [
    "The numbers down the side are the \"index\" and the bold names at the top of the columns are the column names.\n",
    "\n",
    "We can \"slice\" the data frame as well to extract a subset of its columns.  We do this by passing an array of column names in square braces (`[]`):"
   ]
  },
  {
   "cell_type": "code",
   "execution_count": null,
   "metadata": {
    "deleteable": false,
    "editable": false,
    "tags": []
   },
   "outputs": [],
   "source": [
    "display(df[[\"Processor\", \"Frequency (GHz)\", \"SpecRate\", \"# Cores\", \"Published\"]])"
   ]
  },
  {
   "cell_type": "markdown",
   "metadata": {
    "deletable": false,
    "editable": false,
    "tags": []
   },
   "source": [
    "We can concatenate multiple dataframes like so:"
   ]
  },
  {
   "cell_type": "code",
   "execution_count": null,
   "metadata": {
    "deletable": false,
    "editable": false,
    "tags": []
   },
   "outputs": [],
   "source": [
    "df2 = render_csv(\"cpu2017-results-2023.csv\")\n",
    "df3 = pd.concat([df,df2])\n",
    "display(df3[[\"Processor\", \"Frequency (GHz)\", \"# Cores\", \"Published\"]])"
   ]
  },
  {
   "cell_type": "markdown",
   "metadata": {
    "deletable": false,
    "editable": false,
    "tags": []
   },
   "source": [
    "### Plotting Results\n",
    "\n",
    "[Matplotlib](https://matplotlib.org/) is an extremely flexible and powerful plotting tool that we could spend a whole quarter on.  Fortunately, `notebook.py` has some convenient helper functions in it that make it easy graph data in data frames.\n",
    "\n",
    "One of those helpers in `plotPEBar`.  The cell below, creates a dataframe and then plots several bar charts. The `what` parameter is a list of tuples (pairs of values in `(` and `)`).  The first value in each tuple is what ends up on the x-axis.  The second item of the tuple is plotted on the y axis.  You can plot as many bar charts as you want and it'll plot all the entries in the dataframe:"
   ]
  },
  {
   "cell_type": "code",
   "execution_count": null,
   "metadata": {
    "deleteable": false,
    "editable": false,
    "tags": []
   },
   "outputs": [],
   "source": [
    "df = render_csv(\"cpu2017-results-2023.csv\")\n",
    "plotPEBar(\"cpu2017-results-2023.csv\", what=[(\"Processor\", \"Frequency (GHz)\")])\n",
    "plotPEBar(\"cpu2017-results-2023.csv\", what=[(\"Processor\", \"Frequency (GHz)\"),(\"Processor\", \"SpecRate\")])"
   ]
  },
  {
   "cell_type": "markdown",
   "metadata": {
    "deletable": false,
    "editable": false,
    "tags": []
   },
   "source": [
    "The other helper is `plotPE`.  The cell below plots a couple line charts. The `what` parameter is a list of tuples (pairs of values in `(` and `)`).  The first value in each tuple is what ends up on the x-axis.  The second item of the tuple is plotted on the y axis.  You can plot as many line charts as you want and it'll plot all the entries in the dataframe:"
   ]
  },
  {
   "cell_type": "code",
   "execution_count": null,
   "metadata": {
    "deleteable": false,
    "editable": false,
    "tags": []
   },
   "outputs": [],
   "source": [
    "plotPE(\"cpu2017-results-2023.csv\", lines=True, what=[(\"# Cores\", \"SpecRate\"),(\"SpecRate\",\"Frequency (GHz)\")])"
   ]
  },
  {
   "cell_type": "markdown",
   "metadata": {
    "deletable": false,
    "editable": false,
    "tags": []
   },
   "source": [
    "### Doing Math on Data Frames\n",
    "\n",
    "Data frames also make it easy to do math on your data. For instance, can compute the per GHz performance `Frequency (GHz)` and `Base Result`:"
   ]
  },
  {
   "cell_type": "code",
   "execution_count": null,
   "metadata": {
    "deleteable": false,
    "editable": false,
    "tags": []
   },
   "outputs": [],
   "source": [
    "df[\"Performance per GHz\"] = df[\"SpecRate\"]/df[\"Frequency (GHz)\"] - 1\n",
    "display(df)"
   ]
  },
  {
   "cell_type": "markdown",
   "metadata": {
    "deletable": false,
    "editable": false,
    "tags": []
   },
   "source": [
    "Or the performance between processors"
   ]
  },
  {
   "cell_type": "code",
   "execution_count": null,
   "metadata": {
    "deleteable": false,
    "editable": false,
    "tags": []
   },
   "outputs": [],
   "source": [
    "df.at[0,\"SpecRate\"]/df.at[1,\"SpecRate\"]"
   ]
  },
  {
   "cell_type": "markdown",
   "metadata": {
    "cs203.is_response": true,
    "cs203.points": 1,
    "cs203.question_type": "correctness",
    "deleteable": false,
    "editable": false,
    "solution2": "hidden",
    "solution2_first": true,
    "tags": []
   },
   "source": [
    "<div class=\"alert alert-block alert-success\">\n",
    "<div class='question correctness'>\n",
    "\n",
    "## Question 7 (Correctness)\n",
    "<div class=\"question-text\">\n",
    "Can you create a table column and draw a figure that shows the \n",
    "performance per core (i.e., SpecRate/# Cores) column in the given spreadsheet.\n",
    "</div>\n",
    "</div>"
   ]
  },
  {
   "cell_type": "code",
   "execution_count": null,
   "metadata": {
    "cs203.is_response": true,
    "deletable": false,
    "tags": []
   },
   "outputs": [],
   "source": [
    "#Put your commands here\n"
   ]
  },
  {
   "cell_type": "markdown",
   "metadata": {
    "editable": false,
    "tags": []
   },
   "source": [
    "Since Alder Lake is an x86 processor, you're strongly encourage to review x86 assembly before starting the rest of the lab. You may find [this link](https://www.cs.virginia.edu/~evans/cs216/guides/x86.html) useful "
   ]
  },
  {
   "cell_type": "markdown",
   "metadata": {
    "deleteable": false,
    "editable": false,
    "tags": []
   },
   "source": [
    "# From C/C++ to instructions\n",
    "\n",
    "To understand how the processor would handle a program, we unfortunately cannot avoid the connection between \"human-readable\" programming language and \"machine\" instructions. This section will give you some ideas regarding how your C/C++ code becomes machine instructions and some basic ideas about compiler optimizations. We created a tool that can build the program and show the compiled instructions. In the following cell, we demonstrate using this tool to compile a C++ \"Hello, World!\\n\" program and its compiled x86 instructions with optimization flag `-O1`."
   ]
  },
  {
   "cell_type": "code",
   "execution_count": null,
   "metadata": {
    "deleteable": false,
    "editable": false,
    "tags": []
   },
   "outputs": [],
   "source": [
    "exe = build(code(r\"\"\"\n",
    "\n",
    "#include<iostream>\n",
    "int main(int argc, char * argv[]) {\n",
    "    std::cout << \"hello world!\\n\";\n",
    "    return 0;\n",
    "\n",
    "}\"\"\"),build_parameters=arg_map(OPTIMIZE=\"-O1\"))[0]\n",
    "\n",
    "exe.asm(\"main\")"
   ]
  },
  {
   "cell_type": "markdown",
   "metadata": {
    "deleteable": false,
    "editable": false,
    "tags": []
   },
   "source": [
    "## Map your code to machine instructions\n",
    "\n",
    "To become a performance programmer, we need to know how programmer's code would affect the generation of machine code. Let's start this journey with an example with control flow and loop, `loop_if()`. Please run the cell."
   ]
  },
  {
   "cell_type": "code",
   "execution_count": null,
   "metadata": {
    "deleteable": false,
    "editable": false,
    "tags": []
   },
   "outputs": [],
   "source": [
    "loop_if = build(code(r\"\"\"\n",
    "#include<cstdint>\n",
    "#include<cstdlib>\n",
    "\n",
    "extern \"C\" \n",
    "uint64_t * loop_if(uint64_t * array,\n",
    "\t\t   unsigned long int size) {\n",
    "\tuint64_t* t= NULL;\n",
    "\tint k = 0;\n",
    "\tfor(uint i = 0; i < size; i++) {\n",
    "\t\tif (i  + size != 0) { //  L1\n",
    "\t\t\tk = 4; \n",
    "\t\t} else if (i+size != 0) { // L2\n",
    "\t\t\tk = 5;\n",
    "\t\t}\n",
    "\t}\n",
    "\treturn t + k; // L3\n",
    "\t\n",
    "}\n",
    "\n",
    "\n",
    "int main() {\n",
    "}\n",
    "\"\"\"),build_parameters=arg_map(OPTIMIZE=\"-O0 -g\"))\n",
    "\n",
    "compare([loop_if[0].source(\"loop_if\"),loop_if[0].asm(\"loop_if\")])"
   ]
  },
  {
   "cell_type": "markdown",
   "metadata": {
    "cs203.is_response": true,
    "cs203.points": 1,
    "cs203.question_type": "completeness",
    "deleteable": false,
    "editable": false,
    "tags": []
   },
   "source": [
    "<div class=\"alert alert-block alert-success\">\n",
    "<div class=\"question correctness\">\n",
    "\n",
    "### Question 8 (Correctness)    \n",
    "\n",
    "<div class=\"question-text\"> \n",
    "    \n",
    "How does the variable `size` appear in the assembly of loop_if function?  That is, how can we tell that an instruction is operating on the value stored in `size`?\n",
    "    \n",
    "1. What does `size` look like in x86 assembly: \n",
    "2. That is, how can we tell that an instruction is operating on the value store in `size`?  \n",
    "</div>\n",
    "</div>\n",
    "</div>"
   ]
  },
  {
   "cell_type": "markdown",
   "metadata": {
    "cs203.is_response": true,
    "cs203.points": 1,
    "cs203.question_type": "completeness",
    "deleteable": false
   },
   "source": [
    "<div class=\"alert alert-block alert-success\">\n",
    "<div class=\"answer\">\n",
    "Answer:\n",
    "\n",
    "1. What does `size` look like in x86 assembly: \n",
    "2. That is, how can we tell that an instruction is operating on the value store in `size`?  \n",
    "    \n",
    "</div>    \n",
    "</div>\n",
    "</div>"
   ]
  },
  {
   "cell_type": "markdown",
   "metadata": {
    "cs203.is_response": true,
    "cs203.points": 2,
    "cs203.question_type": "correctness",
    "deleteable": false,
    "editable": false,
    "tags": []
   },
   "source": [
    "<div class=\"alert alert-block alert-success\">\n",
    "\n",
    "<div class=\"question correctness points-2\">\n",
    "\n",
    "### Question 9 (Correctness)   \n",
    "    \n",
    "<div class=\"question-text\">\n",
    "\n",
    "What instruction implements these parts of the `loop_if()` (just copy and paste it from the assembly and don't be afraid to google.)?\n",
    "\n",
    "|    |  Instruction|\n",
    "|------|------|\n",
    "| The add on line `L1` |  \n",
    "| The comparison to zero on line `L2` | \n",
    "\n",
    "</div>\n",
    "</div>    \n",
    "</div>     "
   ]
  },
  {
   "cell_type": "markdown",
   "metadata": {
    "cs203.is_response": true,
    "cs203.points": 2,
    "cs203.question_type": "correctness",
    "deleteable": false
   },
   "source": [
    "<div class=\"alert alert-block alert-success\">       \n",
    "<div class=\"answer\">\n",
    "\n",
    "|    |  Instruction|\n",
    "|------|------|\n",
    "| The add on line `L1` |  \n",
    "| The comparison to zero on line `L2` | \n",
    "    \n",
    "</div>    \n",
    "</div>    "
   ]
  },
  {
   "cell_type": "markdown",
   "metadata": {
    "deleteable": false,
    "editable": false
   },
   "source": [
    "## Getting the Instruction Count of my program\n",
    "\n",
    "The purpose of CS203 is to evaluate the performance and identify the potential optimizations. To this end, we are primarily interested in two things:\n",
    "\n",
    "1.  How many dynamic instructions execute _in total_ (that's just `IC` from the performance equation).\n",
    "2.  How many dynamic instructions access memory.\n",
    "\n",
    "Counting instructions is simple:  You can count up the number of instructions in each basic block and multiply it by the number of times the basic block executes.\n",
    "\n",
    "Determining which instructions access memory is also pretty simple except for one wrinkle.\n",
    "\n",
    "The basic rules are that:\n",
    "\n",
    "1.  In x86 assembly, if the instruction uses an addressing mode with parentheses (e.g., `-8(%rbp)` or `(%rax)`) then it accesses memory.\n",
    "2.  In pseudo-assembly, operands like `[var_8h]` or `[rax*8]` are _also_ memory accesses.\n",
    "3.  `push` and `pop` instructions are memory accesses.\n",
    "\n",
    "The exception is the `lea` family of instructions (`leaq`, `leal`, etc.). These are \"load effective address\" and they just compute the address and store the _address_ into into the destination register.  So when you count memory accesses you should ignore `lea*` instructions.\n",
    "\n",
    "Simple, right!  :-)\n",
    "\n",
    "For this question, recall that \"dynamic instructions\" is the number of instructions that the processor executes and \"static instructions\" is the number of instructions the compiler generates."
   ]
  },
  {
   "cell_type": "code",
   "execution_count": null,
   "metadata": {
    "deleteable": false,
    "editable": false,
    "tags": []
   },
   "outputs": [],
   "source": [
    "loop_func = build(code(r\"\"\"\n",
    "#include<cstdint>\n",
    "#include<cstdlib>\n",
    "\n",
    "extern \"C\" \n",
    "uint64_t * loop_func(uint64_t * array,\n",
    "\t\t      unsigned long int size) {\n",
    "\n",
    "\tuint64_t s = 0;\n",
    "\tfor(uint i = 0; i < 10; i++) {\n",
    "\t\ts += array[i];\n",
    "\t}\n",
    "\treturn &array[s];\n",
    "\t\n",
    "}\n",
    "\n",
    "\n",
    "int main() {\n",
    "}\n",
    "\"\"\"),build_parameters=arg_map(OPTIMIZE=\"-O0 -g\"))\n",
    "\n",
    "compare([loop_func[0].source(\"loop_func\"),loop_func[0].asm(\"loop_func\")])"
   ]
  },
  {
   "cell_type": "markdown",
   "metadata": {
    "cs203.is_response": true,
    "cs203.points": 1,
    "cs203.question_type": "completeness",
    "deleteable": false,
    "editable": false
   },
   "source": [
    "<div class=\"alert alert-block alert-success\">\n",
    "\n",
    "<div class=\"question completeness\">\n",
    "\n",
    "## Question 10 (Completeness)    \n",
    "\n",
    "<div class=\"question-text\">\n",
    "    \n",
    "Fill in the table below to compute how many total instructions, how many data memory accesses, and how many branch/jump instructions occur when `loop_func()` executes (Hint:  Don't be afraid to google the instruction names.).\n",
    "    </div>\n",
    "    </div>\n",
    "</div>"
   ]
  },
  {
   "cell_type": "markdown",
   "metadata": {
    "cs203.is_response": true,
    "cs203.points": 1,
    "cs203.question_type": "completeness",
    "deletable": false,
    "tags": []
   },
   "source": [
    "<div class=\"alert alert-block alert-success\">\n",
    "<div class=\"answer\">\n",
    "\n",
    "Answer:\n",
    "    \n",
    "|                                 |  Answer    |\n",
    "|------|------|\n",
    "| total dynamic instruction count |            |\n",
    "|dynamic memory instruction count |            |\n",
    "|dynamic branch/jump instruction count |            |     \n",
    "\n",
    "\n",
    "</div>\n",
    "</div>"
   ]
  },
  {
   "cell_type": "markdown",
   "metadata": {
    "deleteable": false,
    "editable": false,
    "tags": []
   },
   "source": [
    "# Programming Assignment"
   ]
  },
  {
   "cell_type": "markdown",
   "metadata": {
    "deleteable": false,
    "editable": false,
    "tags": []
   },
   "source": [
    "The assignments will all have a programming assignment as part of them.  The main purpose of this one is to get you familiar with the autograding submission process.  It doesn't require any challenging programming.\n",
    "\n",
    "In the assignment directory, you'll find `hello_world2.cpp`:"
   ]
  },
  {
   "cell_type": "code",
   "execution_count": null,
   "metadata": {
    "deleteable": false,
    "editable": false,
    "init_cell": true,
    "tags": []
   },
   "outputs": [],
   "source": [
    "render_code(\"hello_world2.cpp\", show=\"main\")"
   ]
  },
  {
   "cell_type": "markdown",
   "metadata": {
    "deletable": false,
    "editable": false,
    "tags": []
   },
   "source": [
    "Edit it so that it accepts an argument (say, it's value is $x$) and (1) print out your UCR email address and (2) print the $x$th fibonacci number.\n",
    "\n",
    "```\n",
    "Hello CS203! My e-mail address is <your ucrNetID@ucr.edu>\n",
    "The xth fibonacci number is y\n",
    "```\n",
    "\n",
    "to the file. (You may assume the result fit in a 64-bit integer)\n",
    "\n",
    "You can test it with:"
   ]
  },
  {
   "cell_type": "code",
   "execution_count": null,
   "metadata": {
    "deleteable": false,
    "editable": false,
    "tags": []
   },
   "outputs": [],
   "source": [
    "!make hello_world2.exe\n",
    "!./hello_world2.exe `cat hello_world2.input`\n",
    "!cat hello.txt"
   ]
  },
  {
   "cell_type": "markdown",
   "metadata": {
    "editable": false
   },
   "source": [
    "And test it in the cloud like so:"
   ]
  },
  {
   "cell_type": "code",
   "execution_count": null,
   "metadata": {
    "deleteable": false,
    "editable": false,
    "tags": []
   },
   "outputs": [],
   "source": [
    "!cs203 run \"./hello_world2.exe `cat hello_world2.input`\"\n",
    "!cat hello.txt"
   ]
  },
  {
   "cell_type": "markdown",
   "metadata": {
    "deleteable": false,
    "editable": false,
    "tags": []
   },
   "source": [
    "When your submit your code for autograding, it'll run in a more tightly controlled way that let's us reliably measure performance and grade your submission. You can simulate it like this:"
   ]
  },
  {
   "cell_type": "code",
   "execution_count": null,
   "metadata": {
    "deleteable": false,
    "editable": false,
    "tags": []
   },
   "outputs": [],
   "source": [
    "!cs203 run \"./autograde.py  --submission . --results -\""
   ]
  },
  {
   "cell_type": "markdown",
   "metadata": {
    "deleteable": false,
    "editable": false,
    "tags": []
   },
   "source": [
    "If you ran the original code, it gets zero points (`\"score\": 0`).  Once you correctly modify `hello_world2.cpp`, you'll get 1 point.\n",
    "\n",
    "Once you are happy with your code, commit your changes to `hello_world2.cpp`.  You'll have to do this to turn it for official autograding."
   ]
  },
  {
   "cell_type": "code",
   "execution_count": null,
   "metadata": {
    "deleteable": false,
    "editable": false,
    "tags": []
   },
   "outputs": [],
   "source": [
    "!git add hello_world2.cpp\n",
    "!git commit -m \"Yay! I finished the first assignment!\"\n",
    "!git push"
   ]
  },
  {
   "cell_type": "markdown",
   "metadata": {
    "deleteable": false,
    "editable": false,
    "tags": []
   },
   "source": [
    "If this asks you for a password, you'll need to interrupt your Jupyter notebook kernel and do it in a shell instead."
   ]
  },
  {
   "cell_type": "markdown",
   "metadata": {
    "deleteable": false,
    "editable": false,
    "tags": []
   },
   "source": [
    "# Turning In the Assignment"
   ]
  },
  {
   "cell_type": "markdown",
   "metadata": {
    "deleteable": false,
    "tags": []
   },
   "source": [
    "For each assignment, there are two different parts:\n",
    "\n",
    "1.  This notebook.\n",
    "2.  Your code of programming assignment.\n",
    "\n",
    "In addition, there's a post-assignment survey which is embedded below.\n",
    "\n",
    "## Turn in your notebook and programming assignmnet\n",
    "\n",
    "**Step 1:**  Save your workbook!!!"
   ]
  },
  {
   "cell_type": "code",
   "execution_count": null,
   "metadata": {
    "deleteable": false,
    "editable": false,
    "tags": []
   },
   "outputs": [],
   "source": [
    "!for i in 1 2 3 4 5; do echo Save your notebook!; sleep 1; done"
   ]
  },
  {
   "cell_type": "markdown",
   "metadata": {
    "deleteable": false,
    "tags": []
   },
   "source": [
    "**Step 2:** After you complete the assignment, you will need to turn it in by creating a version of the notebook that only contains your answers. Run this command:"
   ]
  },
  {
   "cell_type": "code",
   "execution_count": null,
   "metadata": {
    "deleteable": false,
    "editable": false,
    "tags": []
   },
   "outputs": [],
   "source": [
    "!cs203 turnin Assignment.ipynb\n",
    "!ls -lh Assignment.turnin.ipynb"
   ]
  },
  {
   "cell_type": "markdown",
   "metadata": {
    "deleteable": false,
    "tags": []
   },
   "source": [
    "The date in the above file listing should show that you just created `Assignment.turnin.ipynb`\n",
    "\n",
    "**Step 3:**  Click on this link to open it to see that looks good: [./Assignment.turnin.ipynb](./Assignment.turnin.ipynb)\n",
    "You may need to revise your notebook and repeat Step 1 to 3 if something went wrong."
   ]
  },
  {
   "cell_type": "markdown",
   "metadata": {
    "deleteable": false,
    "tags": []
   },
   "source": [
    "**Step 4**: Commit everything. Please run the following command."
   ]
  },
  {
   "cell_type": "code",
   "execution_count": null,
   "metadata": {},
   "outputs": [],
   "source": [
    "!git add Assignment.turnin.ipynb *.c *.cpp *.h *.hpp\n",
    "!git commit -m \"Yay! I am ready to turn in!\"\n",
    "!git push"
   ]
  },
  {
   "cell_type": "markdown",
   "metadata": {
    "deleteable": false,
    "tags": []
   },
   "source": [
    "**Step 5**: \n",
    "Submit through gradescope\n",
    "You'll turn in your programming assignment by providing gradescope with your github repo of this assignment.   It'll run the autograder and return the results."
   ]
  },
  {
   "cell_type": "markdown",
   "metadata": {
    "deleteable": false,
    "editable": false,
    "tags": []
   },
   "source": [
    "## Post-Assignment Survey\n",
    "\n",
    "Please fill out [this survey](https://forms.gle/MKVzUoqidC4Js7g9A) when you've finished the assignment.  You can only submit once.  Be sure to press \"submit\", your answers won't be saved in the notebook."
   ]
  },
  {
   "cell_type": "code",
   "execution_count": null,
   "metadata": {
    "deleteable": false,
    "editable": false,
    "init_cell": true,
    "tags": []
   },
   "outputs": [],
   "source": [
    "from IPython.display import IFrame    \n",
    "IFrame('https://forms.gle/7CKSx83ZrkMKqprc7', width=800, height=2000)\n"
   ]
  },
  {
   "cell_type": "code",
   "execution_count": null,
   "metadata": {},
   "outputs": [],
   "source": []
  }
 ],
 "metadata": {
  "kernelspec": {
   "display_name": "Python 3",
   "language": "python",
   "name": "python3"
  },
  "language_info": {
   "codemirror_mode": {
    "name": "ipython",
    "version": 3
   },
   "file_extension": ".py",
   "mimetype": "text/x-python",
   "name": "python",
   "nbconvert_exporter": "python",
   "pygments_lexer": "ipython3",
   "version": "3.8.6"
  },
  "toc": {
   "base_numbering": 1,
   "nav_menu": {},
   "number_sections": true,
   "sideBar": true,
   "skip_h1_title": false,
   "title_cell": "Table of Contents",
   "title_sidebar": "Contents",
   "toc_cell": false,
   "toc_position": {
    "height": "calc(100% - 180px)",
    "left": "10px",
    "top": "150px",
    "width": "347.188px"
   },
   "toc_section_display": true,
   "toc_window_display": true
  },
  "toc-autonumbering": true,
  "vscode": {
   "interpreter": {
    "hash": "610c699f0cd8c4f129acd9140687fff6866bed0eb8e82f249fc8848b827b628c"
   }
  },
  "widgets": {
   "application/vnd.jupyter.widget-state+json": {
    "state": {},
    "version_major": 2,
    "version_minor": 0
   }
  }
 },
 "nbformat": 4,
 "nbformat_minor": 4
}
